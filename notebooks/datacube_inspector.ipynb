{
  "nbformat": 4,
  "nbformat_minor": 0,
  "metadata": {
    "colab": {
      "name": "datacube_inspector.ipynb",
      "provenance": [],
      "collapsed_sections": [],
      "toc_visible": true
    },
    "kernelspec": {
      "name": "python3",
      "display_name": "Python 3"
    },
    "language_info": {
      "name": "python"
    }
  },
  "cells": [
    {
      "cell_type": "markdown",
      "metadata": {
        "id": "G8kdPbLMdbfk"
      },
      "source": [
        "# Datacube Inspector"
      ]
    },
    {
      "cell_type": "markdown",
      "metadata": {
        "id": "5LPOUjGEDbRG"
      },
      "source": [
        "# Setup\n",
        "\n",
        "After running the setup cells, restart the runtime.\n",
        "\n",
        "(this might take a while)"
      ]
    },
    {
      "cell_type": "code",
      "metadata": {
        "id": "Yqy6AY8xgyb3"
      },
      "source": [
        "%%capture\n",
        "\n",
        "# install fpcnn package\n",
        "!pip install git+https://github.com/DM1122/fpcnn\n",
        "\n",
        "# download datasets\n",
        "!wget https://raw.githubusercontent.com/DM1122/fpcnn/main/data/Indian_pines.mat"
      ],
      "execution_count": 8,
      "outputs": []
    },
    {
      "cell_type": "markdown",
      "metadata": {
        "id": "VXc3_-ROdxte"
      },
      "source": [
        "# Inspection"
      ]
    },
    {
      "cell_type": "code",
      "metadata": {
        "colab": {
          "base_uri": "https://localhost:8080/"
        },
        "id": "YqCl3_-kgbi2",
        "outputId": "d2911203-4383-43ed-9dc3-dc3249b771a4"
      },
      "source": [
        "import pandas as pd\n",
        "from fpcnn.libs import datalib, plotlib, printlib\n",
        "\n",
        "\n",
        "# import data\n",
        "data = datalib.load_data_hdf5(path=\"Indian_pines.mat\", header=\"indian_pines\")\n",
        "\n",
        "printlib.print_ndarray_stats(array=data, title=\"Datacube\")"
      ],
      "execution_count": 9,
      "outputs": [
        {
          "output_type": "stream",
          "text": [
            "Dataset .mat file version < 7.3. Importing with scipy...\n",
            "Ndarray Stats: Datacube\n",
            "Shape:\t(145, 145, 220)\n",
            "Size:\t4625500\n",
            "Dims:\t3\n",
            "Type:\tuint16\n",
            "Bytes:\t9251000 (9.25MB)\n",
            "Range:\t955,9604 (8649)\n",
            "Mean:\t2503.44\n",
            "Median:\t1825.0\n",
            "σ:\t1589.63\n",
            "σ²:\t2526920.27\n",
            "\n"
          ],
          "name": "stdout"
        }
      ]
    },
    {
      "cell_type": "code",
      "metadata": {
        "colab": {
          "base_uri": "https://localhost:8080/",
          "height": 281
        },
        "id": "j_IHxiqZeCuE",
        "outputId": "83975366-d875-491a-f91f-28ebb6cc6fd1"
      },
      "source": [
        "#@title Parameters { run: \"auto\", vertical-output: true, display-mode: \"form\" }\n",
        "\n",
        "#@markdown Side lengths of cube to inspect from full datacube\n",
        "size_x = 16 #@param {type:\"slider\", min:1, max:145, step:1}\n",
        "size_y = 16 #@param {type:\"slider\", min:1, max:145, step:1}\n",
        "size_z = 16 #@param {type:\"slider\", min:1, max:220, step:1}\n",
        "\n",
        "#@markdown Hyperspectral band for inspection\n",
        "band = 8 #@param {type:\"slider\", min:0, max:219, step:1}\n",
        "\n",
        "\n",
        "# crop datacube to size\n",
        "data_crop = data[0 : size_x, 0 : size_y, 0 : size_z]\n",
        "\n",
        "# plot datacube band\n",
        "plotlib.plot_band(data=data_crop, band=band, title=\"Datacube\")\n",
        "\n"
      ],
      "execution_count": 12,
      "outputs": [
        {
          "output_type": "display_data",
          "data": {
            "image/png": "[encoded data removed]",
            "text/plain": [
              "<Figure size 432x288 with 1 Axes>"
            ]
          },
          "metadata": {
            "tags": [],
            "needs_background": "light"
          }
        }
      ]
    }
  ]
}